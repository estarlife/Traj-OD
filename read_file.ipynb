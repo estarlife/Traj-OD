{
 "cells": [
  {
   "cell_type": "code",
   "execution_count": 2,
   "metadata": {},
   "outputs": [],
   "source": [
    "import os\n",
    "import re\n",
    "import sys\n",
    "import numpy as np # linear algebra\n",
    "import pandas as pd # data processing, CSV file I/O\n",
    "import matplotlib.pyplot as plt\n",
    "import seaborn as sns\n",
    "import numpy as np\n",
    "import math\n",
    "import scipy.io as sio\n",
    "import scipy.sparse as sp\n",
    "from scipy.sparse import csc_matrix\n",
    "import csv\n",
    "import matplotlib.pyplot as plt\n",
    "import datetime\n",
    "import time\n",
    "import utils\n",
    "import os\n",
    "import pickle\n",
    "\n",
    "%matplotlib inline"
   ]
  },
  {
   "cell_type": "code",
   "execution_count": 3,
   "metadata": {},
   "outputs": [
    {
     "data": {
      "text/plain": [
       "'/Users/fuzzy/Documents/GitHub/Traj-OD'"
      ]
     },
     "execution_count": 3,
     "metadata": {},
     "output_type": "execute_result"
    }
   ],
   "source": [
    "currentpath = os.getcwd()\n",
    "currentpath"
   ]
  },
  {
   "cell_type": "code",
   "execution_count": 4,
   "metadata": {},
   "outputs": [],
   "source": [
    "path = './data/'\n",
    "files = os.listdir(path)\n",
    "files_csv = list(filter(lambda x: x[-4:]=='.csv' , files))"
   ]
  },
  {
   "cell_type": "code",
   "execution_count": 99,
   "metadata": {},
   "outputs": [
    {
     "name": "stdout",
     "output_type": "stream",
     "text": [
      "['2008-02-02 13:40:36' 116.3636 39.92648]\n"
     ]
    }
   ],
   "source": [
    "trajectory = [' '  for i in range(len(files_csv))]\n",
    "for file in files_csv:\n",
    "    tmp = pd.read_csv(path + file, header=None, names=['tid', 'timestp', 'long', 'lat'])\n",
    "    tmp2=tmp['tid'][0]-1\n",
    "    a=tmp.drop(['tid'], axis=1)\n",
    "    trajectory[tmp2] = np.asarray(a)\n",
    "print(trajectory[5][0])"
   ]
  },
  {
   "cell_type": "code",
   "execution_count": 100,
   "metadata": {},
   "outputs": [
    {
     "data": {
      "text/plain": [
       "array([['2008-02-02 13:40:36', 116.3636, 39.92648],\n",
       "       ['2008-02-02 13:46:36', 116.3636, 39.92648],\n",
       "       ['2008-02-02 13:53:03', 116.3636, 39.92648],\n",
       "       ...,\n",
       "       ['2008-02-08 17:29:43', 116.7584, 39.74857],\n",
       "       ['2008-02-08 17:32:26', 116.7584, 39.74857],\n",
       "       [1, 2, 3]], dtype=object)"
      ]
     },
     "execution_count": 100,
     "metadata": {},
     "output_type": "execute_result"
    }
   ],
   "source": [
    "a=np.concatenate((trajectory[5],[[1,2,3]]), axis=0)\n",
    "a"
   ]
  },
  {
   "cell_type": "code",
   "execution_count": 101,
   "metadata": {},
   "outputs": [
    {
     "data": {
      "text/plain": [
       "'2008-02-02 13:40:36'"
      ]
     },
     "execution_count": 101,
     "metadata": {},
     "output_type": "execute_result"
    }
   ],
   "source": [
    "a[0][0]"
   ]
  },
  {
   "cell_type": "code",
   "execution_count": 102,
   "metadata": {},
   "outputs": [
    {
     "data": {
      "text/plain": [
       "'1970-01-01T08:01:40Z'"
      ]
     },
     "execution_count": 102,
     "metadata": {},
     "output_type": "execute_result"
    }
   ],
   "source": [
    "import datetime\n",
    "import time\n",
    "b=datetime.datetime.fromtimestamp(100).strftime('%Y-%m-%dT%H:%M:%SZ')\n",
    "b"
   ]
  },
  {
   "cell_type": "code",
   "execution_count": 103,
   "metadata": {
    "scrolled": true
   },
   "outputs": [
    {
     "data": {
      "text/plain": [
       "1201930836"
      ]
     },
     "execution_count": 103,
     "metadata": {},
     "output_type": "execute_result"
    }
   ],
   "source": [
    "timestamp = time.strptime(a[0][0], \"%Y-%m-%d %H:%M:%S\") # parse the time\n",
    "timestamp\n",
    "dt_seconds = int(datetime.datetime(*timestamp[:6]).strftime(\"%s\"))\n",
    "dt_seconds "
   ]
  },
  {
   "cell_type": "code",
   "execution_count": 104,
   "metadata": {},
   "outputs": [],
   "source": []
  },
  {
   "cell_type": "code",
   "execution_count": 105,
   "metadata": {},
   "outputs": [],
   "source": [
    "def LatLonToXY (lat1, lon1,lat2=0, lon2=0): # lat1 and lon1 are the origins and all inputs are assumed to be in the right format of the lat lon\n",
    "    dx = (lon2-lon1)*40000*math.cos((lat1+lat2)*math.pi/360)/360 #经度约化的算法\n",
    "    dy = (lat1-lat2)*40000/360 #纬度\n",
    "    return dx, dy"
   ]
  },
  {
   "cell_type": "code",
   "execution_count": 106,
   "metadata": {},
   "outputs": [],
   "source": [
    "a[0][1],a[0][2]=LatLonToXY (a[0][1], a[0][2],lat2=0, lon2=0)"
   ]
  },
  {
   "cell_type": "code",
   "execution_count": 107,
   "metadata": {},
   "outputs": [
    {
     "data": {
      "text/plain": [
       "array(['2008-02-02 15:36:08', 116.51172, 39.92123], dtype=object)"
      ]
     },
     "execution_count": 107,
     "metadata": {},
     "output_type": "execute_result"
    }
   ],
   "source": [
    "trajectory[i][0]"
   ]
  },
  {
   "cell_type": "code",
   "execution_count": 108,
   "metadata": {
    "scrolled": true
   },
   "outputs": [],
   "source": [
    "for i in range(len(trajectory)):\n",
    "    for j in range(len(trajectory[i])):\n",
    "        \n",
    "        timestamp = time.strptime(trajectory[i][j][0], \"%Y-%m-%d %H:%M:%S\") # parse the time\n",
    "        trajectory[i][j][0] = int(datetime.datetime(*timestamp[:6]).strftime(\"%s\"))\n",
    "        trajectory[i][j][1],trajectory[i][j][2]=LatLonToXY (trajectory[i][j][1], trajectory[i][j][2],lat2=0, lon2=0)"
   ]
  },
  {
   "cell_type": "code",
   "execution_count": 109,
   "metadata": {},
   "outputs": [
    {
     "name": "stdout",
     "output_type": "stream",
     "text": [
      "[array([[1201937768, -2333.7372201295984, 12945.746666666666],\n",
      "       [1201938368, -2334.7782756739944, 12945.705555555556],\n",
      "       [1201938368, -2334.7782756739944, 12945.705555555556],\n",
      "       ...,\n",
      "       [1202455891, -2332.735108839738, 12947.97111111111],\n",
      "       [1202456491, -2330.6806702110403, 12952.395555555557],\n",
      "       [1202457091, -2331.8191222222413, 12949.692222222222]],\n",
      "      dtype=object), array([[1201930432, -2336.6329613350777, 12929.357777777777],\n",
      "       [1201930636, -2336.2855036082374, 12930.534444444445],\n",
      "       [1201930733, -2336.226356712476, 12930.752222222221],\n",
      "       ...,\n",
      "       [1202463224, -2342.476978406729, 12917.542222222222],\n",
      "       [1202463481, -2341.8190478739375, 12918.6],\n",
      "       [1202463525, -2341.6995568110056, 12918.861111111111]],\n",
      "      dtype=object), array([[1201930748, -2336.9592170362603, 12928.603333333334],\n",
      "       [1201931048, -2337.4133570313134, 12928.59111111111],\n",
      "       [1201931349, -2338.211956202263, 12927.844444444445],\n",
      "       ...,\n",
      "       [1202462724, -2337.399950794717, 12936.97888888889],\n",
      "       [1202463023, -2337.114939307839, 12936.4],\n",
      "       [1202463323, -2337.0612998883926, 12936.67]], dtype=object), array([[1201936504, -2334.2575094557897, 12941.113333333333],\n",
      "       [1201937104, -2335.9324572843743, 12938.246666666666],\n",
      "       [1201937704, -2336.3831618063377, 12937.155555555555],\n",
      "       ...,\n",
      "       [1202462343, -2333.6615961720127, 12942.746666666666],\n",
      "       [1202462943, -2333.572412343591, 12943.403333333334],\n",
      "       [1202463543, -2333.374680039804, 12946.946666666667]], dtype=object), array([[1201930984, -2324.3799281823603, 12958.815555555555],\n",
      "       [1201931584, -2324.379344567036, 12958.815555555555],\n",
      "       [1201932184, -2324.379673181729, 12958.814444444444],\n",
      "       ...,\n",
      "       [1202462338, -2326.220438926265, 12954.475555555557],\n",
      "       [1202462938, -2326.2212781769176, 12954.476666666666],\n",
      "       [1202463538, -2326.2212781769176, 12954.476666666666]],\n",
      "      dtype=object), array([[1201930836, -2338.918650448764, 12929.288888888888],\n",
      "       [1201931196, -2338.918650448764, 12929.288888888888],\n",
      "       [1201931583, -2338.918650448764, 12929.288888888888],\n",
      "       ...,\n",
      "       [1202462761, -2315.553265870799, 12973.155555555555],\n",
      "       [1202462983, -2315.553265870799, 12973.155555555555],\n",
      "       [1202463146, -2315.553265870799, 12973.155555555555]], dtype=object), array([[1201936226, -2318.343281072067, 12973.375555555556],\n",
      "       [1201936549, -2318.437118521313, 12974.066666666668],\n",
      "       [1201937972, -2318.437118521313, 12974.066666666668],\n",
      "       ...,\n",
      "       [1202462660, -2345.078698605663, 12934.192222222222],\n",
      "       [1202463020, -2342.59532330819, 12934.54111111111],\n",
      "       [1202463478, -2341.666463317308, 12934.13]], dtype=object)]\n"
     ]
    }
   ],
   "source": [
    "print(trajectory)"
   ]
  },
  {
   "cell_type": "code",
   "execution_count": 120,
   "metadata": {},
   "outputs": [],
   "source": [
    "def saveData(data, filename):\n",
    "    #np.savez(filename,data = data)\n",
    "    output = open(filename, 'wb')\n",
    "    # Pickle dictionary using protocol 0.\n",
    "    pickle.dump(data, output)\n",
    "    output.close()\n",
    "\n",
    "def loadData(filename):\n",
    "    pkl_file = open(filename, 'rb')\n",
    "    data = pickle.load(pkl_file)\n",
    "\n",
    "    pkl_file.close()\n",
    "    #loader = np.load(filename)\n",
    "    return data"
   ]
  },
  {
   "cell_type": "code",
   "execution_count": 121,
   "metadata": {},
   "outputs": [],
   "source": [
    "saveData(trajectory, 'trajectory')"
   ]
  },
  {
   "cell_type": "code",
   "execution_count": 122,
   "metadata": {},
   "outputs": [],
   "source": [
    "traj=loadData('trajectory')"
   ]
  },
  {
   "cell_type": "code",
   "execution_count": 116,
   "metadata": {},
   "outputs": [],
   "source": []
  },
  {
   "cell_type": "code",
   "execution_count": 123,
   "metadata": {},
   "outputs": [
    {
     "data": {
      "text/plain": [
       "[array([[1201937768, -2333.7372201295984, 12945.746666666666],\n",
       "        [1201938368, -2334.7782756739944, 12945.705555555556],\n",
       "        [1201938368, -2334.7782756739944, 12945.705555555556],\n",
       "        ...,\n",
       "        [1202455891, -2332.735108839738, 12947.97111111111],\n",
       "        [1202456491, -2330.6806702110403, 12952.395555555557],\n",
       "        [1202457091, -2331.8191222222413, 12949.692222222222]],\n",
       "       dtype=object),\n",
       " array([[1201930432, -2336.6329613350777, 12929.357777777777],\n",
       "        [1201930636, -2336.2855036082374, 12930.534444444445],\n",
       "        [1201930733, -2336.226356712476, 12930.752222222221],\n",
       "        ...,\n",
       "        [1202463224, -2342.476978406729, 12917.542222222222],\n",
       "        [1202463481, -2341.8190478739375, 12918.6],\n",
       "        [1202463525, -2341.6995568110056, 12918.861111111111]],\n",
       "       dtype=object),\n",
       " array([[1201930748, -2336.9592170362603, 12928.603333333334],\n",
       "        [1201931048, -2337.4133570313134, 12928.59111111111],\n",
       "        [1201931349, -2338.211956202263, 12927.844444444445],\n",
       "        ...,\n",
       "        [1202462724, -2337.399950794717, 12936.97888888889],\n",
       "        [1202463023, -2337.114939307839, 12936.4],\n",
       "        [1202463323, -2337.0612998883926, 12936.67]], dtype=object),\n",
       " array([[1201936504, -2334.2575094557897, 12941.113333333333],\n",
       "        [1201937104, -2335.9324572843743, 12938.246666666666],\n",
       "        [1201937704, -2336.3831618063377, 12937.155555555555],\n",
       "        ...,\n",
       "        [1202462343, -2333.6615961720127, 12942.746666666666],\n",
       "        [1202462943, -2333.572412343591, 12943.403333333334],\n",
       "        [1202463543, -2333.374680039804, 12946.946666666667]], dtype=object),\n",
       " array([[1201930984, -2324.3799281823603, 12958.815555555555],\n",
       "        [1201931584, -2324.379344567036, 12958.815555555555],\n",
       "        [1201932184, -2324.379673181729, 12958.814444444444],\n",
       "        ...,\n",
       "        [1202462338, -2326.220438926265, 12954.475555555557],\n",
       "        [1202462938, -2326.2212781769176, 12954.476666666666],\n",
       "        [1202463538, -2326.2212781769176, 12954.476666666666]],\n",
       "       dtype=object),\n",
       " array([[1201930836, -2338.918650448764, 12929.288888888888],\n",
       "        [1201931196, -2338.918650448764, 12929.288888888888],\n",
       "        [1201931583, -2338.918650448764, 12929.288888888888],\n",
       "        ...,\n",
       "        [1202462761, -2315.553265870799, 12973.155555555555],\n",
       "        [1202462983, -2315.553265870799, 12973.155555555555],\n",
       "        [1202463146, -2315.553265870799, 12973.155555555555]], dtype=object),\n",
       " array([[1201936226, -2318.343281072067, 12973.375555555556],\n",
       "        [1201936549, -2318.437118521313, 12974.066666666668],\n",
       "        [1201937972, -2318.437118521313, 12974.066666666668],\n",
       "        ...,\n",
       "        [1202462660, -2345.078698605663, 12934.192222222222],\n",
       "        [1202463020, -2342.59532330819, 12934.54111111111],\n",
       "        [1202463478, -2341.666463317308, 12934.13]], dtype=object)]"
      ]
     },
     "execution_count": 123,
     "metadata": {},
     "output_type": "execute_result"
    }
   ],
   "source": [
    "traj"
   ]
  },
  {
   "cell_type": "code",
   "execution_count": null,
   "metadata": {},
   "outputs": [],
   "source": []
  }
 ],
 "metadata": {
  "kernelspec": {
   "display_name": "Python 3",
   "language": "python",
   "name": "python3"
  },
  "language_info": {
   "codemirror_mode": {
    "name": "ipython",
    "version": 3
   },
   "file_extension": ".py",
   "mimetype": "text/x-python",
   "name": "python",
   "nbconvert_exporter": "python",
   "pygments_lexer": "ipython3",
   "version": "3.7.3"
  }
 },
 "nbformat": 4,
 "nbformat_minor": 2
}
