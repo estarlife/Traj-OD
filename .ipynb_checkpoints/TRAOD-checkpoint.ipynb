{
 "cells": [
  {
   "cell_type": "code",
   "execution_count": 10,
   "metadata": {},
   "outputs": [],
   "source": [
    "import numpy as np\n",
    "import math\n",
    "import scipy.io as sio\n",
    "import scipy.sparse as sp\n",
    "from scipy.sparse import csc_matrix\n",
    "import csv\n",
    "import matplotlib.pyplot as plt\n",
    "import datetime\n",
    "import time\n",
    "import os\n",
    "from scipy import interpolate\n",
    "import scipy.spatial.distance as distance\n",
    "from collections import OrderedDict\n",
    "import copy\n",
    "import sys\n",
    "import scipy.spatial.distance as DIST\n",
    "import scipy.cluster.hierarchy as HAC\n",
    "import random\n",
    "from sklearn import metrics\n",
    "import operator\n",
    "import utils\n",
    "import pickle\n",
    "import partition\n",
    "import clustering_worker\n",
    "import utils\n",
    "import vector_computation\n",
    "\n",
    "%matplotlib inline\n"
   ]
  },
  {
   "cell_type": "code",
   "execution_count": 7,
   "metadata": {},
   "outputs": [],
   "source": [
    "traj=partition.loadData('trajectory')"
   ]
  },
  {
   "cell_type": "code",
   "execution_count": 12,
   "metadata": {},
   "outputs": [],
   "source": [
    "sample=traj[0]\n",
    "\n",
    "endpoint=traj_partition(traj)\n",
    "\n",
    "subtrajs_distance=[]\n",
    "#calculate distance from t2 to t1\n",
    "\n",
    "for i in range(len(traj)):  #\n",
    "    for j in range(len(traj)):\n",
    "        for traj_i in range(len(endpoint[i])):\n",
    "            for traj_j in range(len(endpoint[j])):\n",
    "\n",
    "                t1=subtrajectoryfromst2ed(traj[i], [i, [endpoint[i][traj_i]]])\n",
    "                t2=subtrajectoryfromst2ed(traj[j], [j, [endpoint[j][traj_j]]])\n",
    "                \n",
    "                subtrajs_distance[i][traj_i][j][traj_j] = trajectoryDissimilarityL2(t1, t2)\n",
    "                \n",
    "\n",
    "            \n",
    "partition.traj_partition(traj)\n",
    "\n",
    "subtrajectoryfromst2ed(traj, endpoint)"
   ]
  },
  {
   "cell_type": "code",
   "execution_count": null,
   "metadata": {},
   "outputs": [],
   "source": [
    "def subtrajectoryfromst2ed(traj, endpoint): #endpoint in form [traj_index, []]\n",
    "    traj_index, [st, ed]=endpoint\n",
    "    subtraj=[traj[traj_index][st],traj[traj_index][ed]]\n",
    "    return subtraj\n",
    "\n",
    "def closeness_traj2part(trajectroy, partition): #to judge if a trajectory is close to a partition\n",
    "    for i in range(len(endpoint)):\n",
    "        \n",
    "        trajectory"
   ]
  }
 ],
 "metadata": {
  "kernelspec": {
   "display_name": "Python 3",
   "language": "python",
   "name": "python3"
  },
  "language_info": {
   "codemirror_mode": {
    "name": "ipython",
    "version": 3
   },
   "file_extension": ".py",
   "mimetype": "text/x-python",
   "name": "python",
   "nbconvert_exporter": "python",
   "pygments_lexer": "ipython3",
   "version": "3.7.3"
  }
 },
 "nbformat": 4,
 "nbformat_minor": 2
}
