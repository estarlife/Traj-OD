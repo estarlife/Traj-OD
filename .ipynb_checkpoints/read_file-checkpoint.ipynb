{
 "cells": [
  {
   "cell_type": "code",
   "execution_count": 2,
   "metadata": {},
   "outputs": [],
   "source": [
    "import os\n",
    "import re\n",
    "import sys\n",
    "import numpy as np # linear algebra\n",
    "import pandas as pd # data processing, CSV file I/O\n",
    "import matplotlib.pyplot as plt\n",
    "import seaborn as sns\n",
    "\n",
    "%matplotlib inline"
   ]
  },
  {
   "cell_type": "code",
   "execution_count": 3,
   "metadata": {},
   "outputs": [
    {
     "data": {
      "text/plain": [
       "'/Users/fuzzy/Documents/GitHub/Traj-OD'"
      ]
     },
     "execution_count": 3,
     "metadata": {},
     "output_type": "execute_result"
    }
   ],
   "source": [
    "currentpath = os.getcwd()\n",
    "currentpath"
   ]
  },
  {
   "cell_type": "code",
   "execution_count": 4,
   "metadata": {},
   "outputs": [],
   "source": [
    "path = './data/'\n",
    "files = os.listdir(path)\n",
    "files_csv = list(filter(lambda x: x[-4:]=='.csv' , files))"
   ]
  },
  {
   "cell_type": "code",
   "execution_count": 40,
   "metadata": {},
   "outputs": [
    {
     "name": "stdout",
     "output_type": "stream",
     "text": [
      "['2008-02-02 13:40:36' 116.3636 39.92648]\n"
     ]
    }
   ],
   "source": [
    "trajectory = [' '  for i in range(len(files_csv))]\n",
    "for file in files_csv:\n",
    "    tmp = pd.read_csv(path + file, header=None, names=['tid', 'timestp', 'long', 'lat'])\n",
    "    tmp2=tmp['tid'][0]-1\n",
    "    a=tmp.drop(['tid'], axis=1)\n",
    "    trajectory[tmp2] = np.asarray(a)\n",
    "print(trajectory[5][0])"
   ]
  },
  {
   "cell_type": "code",
   "execution_count": 65,
   "metadata": {},
   "outputs": [
    {
     "data": {
      "text/plain": [
       "array([['2008-02-02 13:40:36', 116.3636, 39.92648],\n",
       "       ['2008-02-02 13:46:36', 116.3636, 39.92648],\n",
       "       ['2008-02-02 13:53:03', 116.3636, 39.92648],\n",
       "       ...,\n",
       "       ['2008-02-08 17:29:43', 116.7584, 39.74857],\n",
       "       ['2008-02-08 17:32:26', 116.7584, 39.74857],\n",
       "       [1, 2, 3]], dtype=object)"
      ]
     },
     "execution_count": 65,
     "metadata": {},
     "output_type": "execute_result"
    }
   ],
   "source": [
    "a=np.concatenate((trajectory[5],[[1,2,3]]), axis=0)\n",
    "a"
   ]
  },
  {
   "cell_type": "code",
   "execution_count": 66,
   "metadata": {},
   "outputs": [
    {
     "data": {
      "text/plain": [
       "'2008-02-02 13:40:36'"
      ]
     },
     "execution_count": 66,
     "metadata": {},
     "output_type": "execute_result"
    }
   ],
   "source": [
    "a[0][0]"
   ]
  },
  {
   "cell_type": "code",
   "execution_count": 68,
   "metadata": {},
   "outputs": [
    {
     "data": {
      "text/plain": [
       "'1970-01-01T08:01:40Z'"
      ]
     },
     "execution_count": 68,
     "metadata": {},
     "output_type": "execute_result"
    }
   ],
   "source": [
    "import datetime\n",
    "import time\n",
    "b=datetime.datetime.fromtimestamp(100).strftime('%Y-%m-%dT%H:%M:%SZ')\n",
    "b"
   ]
  },
  {
   "cell_type": "code",
   "execution_count": null,
   "metadata": {},
   "outputs": [],
   "source": [
    "writeToCSV.writeDataToCSV(aggregateData, foldername, \"aggregateData\")\n"
   ]
  },
  {
   "cell_type": "code",
   "execution_count": null,
   "metadata": {},
   "outputs": [],
   "source": [
    "import datetime\n",
    "import time\n",
    "b=datetime.datetime.fromtimestamp(currentTS).strftime('%Y-%m-%dT%H:%M:%SZ')\n",
    "b"
   ]
  },
  {
   "cell_type": "code",
   "execution_count": null,
   "metadata": {},
   "outputs": [],
   "source": []
  }
 ],
 "metadata": {
  "kernelspec": {
   "display_name": "Python 3",
   "language": "python",
   "name": "python3"
  },
  "language_info": {
   "codemirror_mode": {
    "name": "ipython",
    "version": 3
   },
   "file_extension": ".py",
   "mimetype": "text/x-python",
   "name": "python",
   "nbconvert_exporter": "python",
   "pygments_lexer": "ipython3",
   "version": "3.7.3"
  }
 },
 "nbformat": 4,
 "nbformat_minor": 2
}
